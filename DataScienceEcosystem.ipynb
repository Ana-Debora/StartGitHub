{
 "cells": [
  {
   "cell_type": "markdown",
   "id": "9121249a-4505-4f2d-8f44-a74e2eb3b163",
   "metadata": {},
   "source": [
    "# Data Science Tools and Ecosystem"
   ]
  },
  {
   "cell_type": "markdown",
   "id": "88829565-3bc3-4788-93c5-766f0f78ef48",
   "metadata": {},
   "source": [
    "## In this notebook, Data Science Tools and Ecosystem are summarized."
   ]
  },
  {
   "cell_type": "markdown",
   "id": "d696417d-b687-49b9-8365-ec84338ab509",
   "metadata": {},
   "source": [
    "**Objectives:**\n",
    "-  List popular languages for Data Science\n",
    "-  List commonly used libraries in Data Science\n",
    "-  Evaluating arithmetic expressions in Python\n",
    "-  Create ordered and unordered lists in Markdown"
   ]
  },
  {
   "cell_type": "markdown",
   "id": "770265b5-949e-4a18-bfdb-37a9fc577c0a",
   "metadata": {},
   "source": [
    "Some of the popular languages that Data Scientists use are:\n",
    "1. Phyton\n",
    "2. R\n",
    "3. C++"
   ]
  },
  {
   "cell_type": "markdown",
   "id": "7e7cce10-99bb-4e85-8fc8-a3bb3e9744a3",
   "metadata": {},
   "source": [
    "Some of the commonly used libraries used by Data Scientists include:\n",
    "1. Pandas\n",
    "2. NumPy\n",
    "3. Scikit-learn"
   ]
  },
  {
   "cell_type": "markdown",
   "id": "7e763481-ec55-426e-abe7-06b1eca3c12d",
   "metadata": {},
   "source": [
    "|Data Science Tools|\n",
    "|------------------|\n",
    "|Jupyter Lab|\n",
    "|RStudio|\n",
    "|VS Code|"
   ]
  },
  {
   "cell_type": "markdown",
   "id": "4c6b6072-de01-4631-9668-c39043e4c832",
   "metadata": {},
   "source": [
    "### Below are a few examples of evaluating arithmetic expressions in Python."
   ]
  },
  {
   "cell_type": "code",
   "execution_count": 1,
   "id": "265ed4c2-14ce-4c8a-8d9e-0937d6a93758",
   "metadata": {},
   "outputs": [
    {
     "data": {
      "text/plain": [
       "17"
      ]
     },
     "execution_count": 1,
     "metadata": {},
     "output_type": "execute_result"
    }
   ],
   "source": [
    "# This a simple arithmetic expression to multiply then add integers.\n",
    "(3*4)+5"
   ]
  },
  {
   "cell_type": "code",
   "execution_count": 2,
   "id": "2caada0f-458a-4120-be7a-eb68084cbd39",
   "metadata": {},
   "outputs": [
    {
     "data": {
      "text/plain": [
       "3.3333333333333335"
      ]
     },
     "execution_count": 2,
     "metadata": {},
     "output_type": "execute_result"
    }
   ],
   "source": [
    "#This will convert 200 minutes to hours by diving by 60.\n",
    "200/60"
   ]
  },
  {
   "cell_type": "markdown",
   "id": "ee7bac85-b266-466b-bb2b-18c255123371",
   "metadata": {},
   "source": [
    "## Author\n",
    "Prodan Ana Debora"
   ]
  },
  {
   "cell_type": "code",
   "execution_count": null,
   "id": "1f16fa89-e0b1-4a01-a1cd-2ad4d04da667",
   "metadata": {},
   "outputs": [],
   "source": []
  }
 ],
 "metadata": {
  "kernelspec": {
   "display_name": "Python 3 (ipykernel)",
   "language": "python",
   "name": "python3"
  },
  "language_info": {
   "codemirror_mode": {
    "name": "ipython",
    "version": 3
   },
   "file_extension": ".py",
   "mimetype": "text/x-python",
   "name": "python",
   "nbconvert_exporter": "python",
   "pygments_lexer": "ipython3",
   "version": "3.12.8"
  }
 },
 "nbformat": 4,
 "nbformat_minor": 5
}
